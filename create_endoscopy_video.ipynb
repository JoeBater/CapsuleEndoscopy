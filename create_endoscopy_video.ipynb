{
 "cells": [
  {
   "cell_type": "markdown",
   "id": "bb616e11",
   "metadata": {},
   "source": [
    "# Create endoscopy video"
   ]
  },
  {
   "cell_type": "code",
   "execution_count": 1,
   "id": "9304f103",
   "metadata": {},
   "outputs": [],
   "source": [
    "import pandas as pd\n",
    "import numpy as np\n",
    "\n",
    "import matplotlib.pyplot as plt\n",
    "%matplotlib inline\n",
    "import cv2\n",
    "import PIL\n",
    "import os\n",
    "\n",
    "from tqdm import tqdm, trange"
   ]
  },
  {
   "cell_type": "code",
   "execution_count": 2,
   "id": "48d063f5",
   "metadata": {},
   "outputs": [
    {
     "data": {
      "text/plain": [
       "['8a00709108cd4e2b',\n",
       " '5e9beaf4e66142c8',\n",
       " 'fc32def0e7194981',\n",
       " 'c11b28a8b2344716',\n",
       " '89cdd41258c542c5',\n",
       " 'bca26705313a4644',\n",
       " '4560e83f9afc4685',\n",
       " '07c1fa15a20a4398',\n",
       " 'bc84479c66fe4da6',\n",
       " 'd7a271f233ba4a40',\n",
       " '48579eec79784294',\n",
       " '64440803f87b4843',\n",
       " '6cb700585c4f4070',\n",
       " 'fe5d372e43f94f68',\n",
       " '131368cc17e44240',\n",
       " '495f16498db34d3c',\n",
       " 'df6b47bafe5143f5',\n",
       " 'c7084b3556e34619',\n",
       " '5e59c7fdb16c4228',\n",
       " '04a78ef00c5245e0',\n",
       " 'eb0203196e284797',\n",
       " '4aebc5cb2d4847aa',\n",
       " 'af9bd7d0e43741e3',\n",
       " '0531325b64674948',\n",
       " 'dc221ccc65d34010',\n",
       " 'b2134f4a6f864613',\n",
       " 'd369e4f163df4aba',\n",
       " '8885668afb844852',\n",
       " '7ad22d50ebaf4596',\n",
       " 'ad91cf7ca91440aa',\n",
       " '39960e5e099a45ca',\n",
       " 'ed02f27ef36f483e',\n",
       " '8ebf0e483cac48d6',\n",
       " '7a47e8eacea04e64',\n",
       " '3c8d5f0b90d7475d',\n",
       " '5bb1d3cc7dc64cec',\n",
       " 'dac1e27f7e4d4ef5',\n",
       " 'fb86bc87d3874cd7',\n",
       " 'dca1377dec974312',\n",
       " '2fc3db471f9d44c0',\n",
       " '3ada4222967f421d',\n",
       " 'd626f4f4a5ac4785',\n",
       " '0728084c8da942d9']"
      ]
     },
     "execution_count": 2,
     "metadata": {},
     "output_type": "execute_result"
    }
   ],
   "source": [
    "img_folder = r'C:\\Users\\user\\ML\\endoscopy\\kvasir-capsule'\n",
    "\n",
    "df = pd.read_csv(os.path.join(img_folder, 'kvasir-capsule.csv'))\n",
    "\n",
    "videos = list(set(df['video_id'].values))\n",
    "videos"
   ]
  },
  {
   "cell_type": "code",
   "execution_count": 3,
   "id": "936951df",
   "metadata": {},
   "outputs": [
    {
     "data": {
      "text/plain": [
       "Index(['filename', 'video_id', 'frame_number', 'finding_category',\n",
       "       'finding_class', 'x1', 'y1', 'x2', 'y2', 'x3', 'y3', 'x4', 'y4'],\n",
       "      dtype='object')"
      ]
     },
     "execution_count": 3,
     "metadata": {},
     "output_type": "execute_result"
    }
   ],
   "source": [
    "df.columns"
   ]
  },
  {
   "cell_type": "code",
   "execution_count": 9,
   "id": "d31f4805",
   "metadata": {},
   "outputs": [
    {
     "name": "stderr",
     "output_type": "stream",
     "text": [
      "100%|██████████| 47248/47248 [00:03<00:00, 13236.48it/s]\n"
     ]
    }
   ],
   "source": [
    "df = df.sort_values(by=['video_id', 'frame_number']).reset_index(drop=True)\n",
    "\n",
    "df['image_path'] = \"\"\n",
    "df_copy = df.copy()\n",
    "for i in trange(len(df)):\n",
    "    df.loc[i,'image_path'] = img_folder + '\\\\' + df.loc[i,'finding_class'] + '\\\\' + df.loc[i,'video_id'] + '_' + str(df.loc[i,'frame_number']) + '.jpg'\n",
    "\n",
    "#df['image_path'] = df.apply(lambda x: os.path.join(img_folder, x['finding_class'], x['video_id'], str(x['frame_number'])), axis=1)"
   ]
  },
  {
   "cell_type": "code",
   "execution_count": 10,
   "id": "7d40ed84",
   "metadata": {},
   "outputs": [],
   "source": [
    "df.to_csv(os.path.join(img_folder, 'kvasir-capsule-analysis.csv'), index=False)"
   ]
  },
  {
   "cell_type": "code",
   "execution_count": 12,
   "id": "3f0820ca",
   "metadata": {},
   "outputs": [
    {
     "name": "stderr",
     "output_type": "stream",
     "text": [
      "100%|██████████| 43/43 [01:00<00:00,  1.41s/it]\n"
     ]
    }
   ],
   "source": [
    "frame_per_second = 8\n",
    "fourcc = cv2.VideoWriter_fourcc('m', 'p', '4', 'v')\n",
    "\n",
    "\n",
    "for v in trange(len(videos)):\n",
    "\n",
    "    vframes = df[df['video_id'] == videos[v]]\n",
    "    vframes = vframes.sort_values(by=['frame_number']).reset_index(drop=True)\n",
    "\n",
    "    #print(v, len(vframes))\n",
    "\n",
    "    images = vframes['image_path'].values\n",
    "    frame = cv2.imread(images[0])\n",
    "    height, width, layers = frame.shape\n",
    "\n",
    "    video = cv2.VideoWriter(videos[v]+'.mp4', fourcc, frame_per_second, (width,height))\n",
    "\n",
    "    for image in images:\n",
    "        video.write(cv2.imread(image))\n",
    "\n",
    "    cv2.destroyAllWindows()\n",
    "    video.release()\n"
   ]
  }
 ],
 "metadata": {
  "kernelspec": {
   "display_name": "Python 3 (ipykernel)",
   "language": "python",
   "name": "python3"
  },
  "language_info": {
   "codemirror_mode": {
    "name": "ipython",
    "version": 3
   },
   "file_extension": ".py",
   "mimetype": "text/x-python",
   "name": "python",
   "nbconvert_exporter": "python",
   "pygments_lexer": "ipython3",
   "version": "3.12.1"
  }
 },
 "nbformat": 4,
 "nbformat_minor": 5
}
